{
 "cells": [
  {
   "cell_type": "code",
   "execution_count": 62,
   "metadata": {},
   "outputs": [],
   "source": [
    "import pandas as pd \n",
    "df = pd.read_csv(\"listings.csv\")\n"
   ]
  },
  {
   "cell_type": "code",
   "execution_count": 63,
   "metadata": {},
   "outputs": [],
   "source": [
    "df = df[['host_id','number_of_reviews','neighbourhood_cleansed','host_acceptance_rate','host_response_rate','room_type','amenities',\"price\",'host_verifications',\"bathrooms_text\"]]"
   ]
  },
  {
   "cell_type": "code",
   "execution_count": 64,
   "metadata": {},
   "outputs": [
    {
     "name": "stderr",
     "output_type": "stream",
     "text": [
      "/tmp/ipykernel_37441/2384635024.py:3: FutureWarning: The default value of regex will change from True to False in a future version. In addition, single character regular expressions will *not* be treated as literal strings when regex=True.\n",
      "  df['price']=df['price'].str.replace('$','')\n",
      "/tmp/ipykernel_37441/2384635024.py:16: FutureWarning: In a future version of pandas all arguments of StringMethods.split except for the argument 'pat' will be keyword-only.\n",
      "  df[['number','type']] = df[\"bathrooms_text\"].str.split(' ', 1, expand=True)\n"
     ]
    }
   ],
   "source": [
    "df[\"amenities\"]=df[\"amenities\"].apply(lambda x: x.count(\",\")+1)\n",
    "\n",
    "df['price']=df['price'].str.replace('$','')\n",
    "df['price']=df['price'].str.replace(',','')\n",
    "df['price']=df['price'].astype(float)\n",
    "\n",
    "indexNames = df[ df['price'] == 0 ].index\n",
    "\n",
    "df=df.drop(index=indexNames)\n",
    "\n",
    "df[\"bathrooms_text\"] = df[\"bathrooms_text\"].str.lower()\n",
    "df[\"bathrooms_text\"] = df[\"bathrooms_text\"].str.replace('shared half-bath','1 shared half-bath')\n",
    "df[\"bathrooms_text\"] = df[\"bathrooms_text\"].str.replace('private half-bath','1 private half-bath')\n",
    "df[\"bathrooms_text\"] = df[\"bathrooms_text\"].str.replace('half-bath','1 half-bath')\n",
    "df[\"bathrooms_text\"].value_counts()\n",
    "df[['number','type']] = df[\"bathrooms_text\"].str.split(' ', 1, expand=True)\n",
    "df[\"number\"]=df[\"number\"].astype(float)\n",
    "df=df.dropna()\n"
   ]
  },
  {
   "cell_type": "code",
   "execution_count": 65,
   "metadata": {},
   "outputs": [
    {
     "data": {
      "text/plain": [
       "bath                   3867\n",
       "baths                  1510\n",
       "shared bath             718\n",
       "private bath            661\n",
       "shared baths             91\n",
       "shared 1 half-bath       13\n",
       "half-bath                 6\n",
       "private 1 half-bath       4\n",
       "Name: type, dtype: int64"
      ]
     },
     "execution_count": 65,
     "metadata": {},
     "output_type": "execute_result"
    }
   ],
   "source": [
    "df['type'].value_counts()"
   ]
  },
  {
   "cell_type": "markdown",
   "metadata": {},
   "source": [
    "Calculez le nombre d’hosst et le nombre de review par quartier. (\n",
    "neighbourhood_cleansed)?"
   ]
  },
  {
   "cell_type": "code",
   "execution_count": null,
   "metadata": {},
   "outputs": [
    {
     "data": {
      "text/html": [
       "<div>\n",
       "<style scoped>\n",
       "    .dataframe tbody tr th:only-of-type {\n",
       "        vertical-align: middle;\n",
       "    }\n",
       "\n",
       "    .dataframe tbody tr th {\n",
       "        vertical-align: top;\n",
       "    }\n",
       "\n",
       "    .dataframe thead th {\n",
       "        text-align: right;\n",
       "    }\n",
       "</style>\n",
       "<table border=\"1\" class=\"dataframe\">\n",
       "  <thead>\n",
       "    <tr style=\"text-align: right;\">\n",
       "      <th></th>\n",
       "      <th>host_id</th>\n",
       "      <th>number_of_reviews</th>\n",
       "    </tr>\n",
       "    <tr>\n",
       "      <th>neighbourhood_cleansed</th>\n",
       "      <th></th>\n",
       "      <th></th>\n",
       "    </tr>\n",
       "  </thead>\n",
       "  <tbody>\n",
       "    <tr>\n",
       "      <th>3M-Bourgailh</th>\n",
       "      <td>10</td>\n",
       "      <td>10</td>\n",
       "    </tr>\n",
       "    <tr>\n",
       "      <th>Ambars-et-Lagrave</th>\n",
       "      <td>69</td>\n",
       "      <td>69</td>\n",
       "    </tr>\n",
       "    <tr>\n",
       "      <th>Ambs</th>\n",
       "      <td>57</td>\n",
       "      <td>57</td>\n",
       "    </tr>\n",
       "    <tr>\n",
       "      <th>Arago-La Chataigneraie</th>\n",
       "      <td>58</td>\n",
       "      <td>58</td>\n",
       "    </tr>\n",
       "    <tr>\n",
       "      <th>Arlac</th>\n",
       "      <td>98</td>\n",
       "      <td>98</td>\n",
       "    </tr>\n",
       "    <tr>\n",
       "      <th>...</th>\n",
       "      <td>...</td>\n",
       "      <td>...</td>\n",
       "    </tr>\n",
       "    <tr>\n",
       "      <th>Sardine</th>\n",
       "      <td>21</td>\n",
       "      <td>21</td>\n",
       "    </tr>\n",
       "    <tr>\n",
       "      <th>Talence</th>\n",
       "      <td>494</td>\n",
       "      <td>494</td>\n",
       "    </tr>\n",
       "    <tr>\n",
       "      <th>Toctoucau</th>\n",
       "      <td>18</td>\n",
       "      <td>18</td>\n",
       "    </tr>\n",
       "    <tr>\n",
       "      <th>Verthamon</th>\n",
       "      <td>26</td>\n",
       "      <td>26</td>\n",
       "    </tr>\n",
       "    <tr>\n",
       "      <th>Villenave-d'Ornon</th>\n",
       "      <td>320</td>\n",
       "      <td>320</td>\n",
       "    </tr>\n",
       "  </tbody>\n",
       "</table>\n",
       "<p>62 rows × 2 columns</p>\n",
       "</div>"
      ],
      "text/plain": [
       "                        host_id  number_of_reviews\n",
       "neighbourhood_cleansed                            \n",
       "3M-Bourgailh                 10                 10\n",
       "Ambars-et-Lagrave            69                 69\n",
       "Ambs                         57                 57\n",
       "Arago-La Chataigneraie       58                 58\n",
       "Arlac                        98                 98\n",
       "...                         ...                ...\n",
       "Sardine                      21                 21\n",
       "Talence                     494                494\n",
       "Toctoucau                    18                 18\n",
       "Verthamon                    26                 26\n",
       "Villenave-d'Ornon           320                320\n",
       "\n",
       "[62 rows x 2 columns]"
      ]
     },
     "execution_count": 20,
     "metadata": {},
     "output_type": "execute_result"
    }
   ],
   "source": [
    "df_neighbourhood_cleansed = df[['host_id','number_of_reviews','neighbourhood_cleansed']]\n",
    "df_neighbourhood_cleansed.groupby(by=\"neighbourhood_cleansed\").count()"
   ]
  },
  {
   "cell_type": "markdown",
   "metadata": {},
   "source": [
    "Quels sont les pourcentage d’acceptation et de réponse moyen des hosts?"
   ]
  },
  {
   "cell_type": "code",
   "execution_count": null,
   "metadata": {},
   "outputs": [
    {
     "name": "stdout",
     "output_type": "stream",
     "text": [
      "0         99%\n",
      "1        100%\n",
      "2         95%\n",
      "3         78%\n",
      "4        100%\n",
      "         ... \n",
      "10880     NaN\n",
      "10881     90%\n",
      "10882    100%\n",
      "10883    100%\n",
      "10884     NaN\n",
      "Name: host_acceptance_rate, Length: 10883, dtype: object\n",
      "0        100%\n",
      "1        100%\n",
      "2         NaN\n",
      "3        100%\n",
      "4        100%\n",
      "         ... \n",
      "10880     NaN\n",
      "10881    100%\n",
      "10882    100%\n",
      "10883    100%\n",
      "10884     NaN\n",
      "Name: host_response_rate, Length: 10883, dtype: object\n"
     ]
    }
   ],
   "source": [
    "df_acce_rate =df['host_acceptance_rate']\n",
    "df_reponse_rate =df['host_response_rate']\n",
    "print(df_acce_rate )\n",
    "print(df_reponse_rate)"
   ]
  },
  {
   "cell_type": "markdown",
   "metadata": {},
   "source": [
    "Quel pourcentage des hosts on une vérification"
   ]
  },
  {
   "cell_type": "code",
   "execution_count": null,
   "metadata": {},
   "outputs": [
    {
     "ename": "KeyError",
     "evalue": "'host_verifications'",
     "output_type": "error",
     "traceback": [
      "\u001b[0;31m---------------------------------------------------------------------------\u001b[0m",
      "\u001b[0;31mKeyError\u001b[0m                                  Traceback (most recent call last)",
      "File \u001b[0;32m~/miniconda3/envs/airbnb_env/lib/python3.10/site-packages/pandas/core/indexes/base.py:3803\u001b[0m, in \u001b[0;36mIndex.get_loc\u001b[0;34m(self, key, method, tolerance)\u001b[0m\n\u001b[1;32m   3802\u001b[0m \u001b[39mtry\u001b[39;00m:\n\u001b[0;32m-> 3803\u001b[0m     \u001b[39mreturn\u001b[39;00m \u001b[39mself\u001b[39;49m\u001b[39m.\u001b[39;49m_engine\u001b[39m.\u001b[39;49mget_loc(casted_key)\n\u001b[1;32m   3804\u001b[0m \u001b[39mexcept\u001b[39;00m \u001b[39mKeyError\u001b[39;00m \u001b[39mas\u001b[39;00m err:\n",
      "File \u001b[0;32m~/miniconda3/envs/airbnb_env/lib/python3.10/site-packages/pandas/_libs/index.pyx:138\u001b[0m, in \u001b[0;36mpandas._libs.index.IndexEngine.get_loc\u001b[0;34m()\u001b[0m\n",
      "File \u001b[0;32m~/miniconda3/envs/airbnb_env/lib/python3.10/site-packages/pandas/_libs/index.pyx:165\u001b[0m, in \u001b[0;36mpandas._libs.index.IndexEngine.get_loc\u001b[0;34m()\u001b[0m\n",
      "File \u001b[0;32mpandas/_libs/hashtable_class_helper.pxi:5745\u001b[0m, in \u001b[0;36mpandas._libs.hashtable.PyObjectHashTable.get_item\u001b[0;34m()\u001b[0m\n",
      "File \u001b[0;32mpandas/_libs/hashtable_class_helper.pxi:5753\u001b[0m, in \u001b[0;36mpandas._libs.hashtable.PyObjectHashTable.get_item\u001b[0;34m()\u001b[0m\n",
      "\u001b[0;31mKeyError\u001b[0m: 'host_verifications'",
      "\nThe above exception was the direct cause of the following exception:\n",
      "\u001b[0;31mKeyError\u001b[0m                                  Traceback (most recent call last)",
      "Cell \u001b[0;32mIn [22], line 29\u001b[0m\n\u001b[1;32m     26\u001b[0m     \u001b[39mprint\u001b[39m(\u001b[39m\"\u001b[39m\u001b[39mle pourcentage de validation par n_telephone est \u001b[39m\u001b[39m{0:.2f}\u001b[39;00m\u001b[39m\"\u001b[39m\u001b[39m.\u001b[39mformat(pourcen_telephone))\n\u001b[1;32m     27\u001b[0m     \u001b[39mprint\u001b[39m(\u001b[39m\"\u001b[39m\u001b[39mle pourcentage de validation par n_work_email est \u001b[39m\u001b[39m{0:.2f}\u001b[39;00m\u001b[39m\"\u001b[39m\u001b[39m.\u001b[39mformat(pourcen_work_mail))\n\u001b[0;32m---> 29\u001b[0m pourcentage_moyen_vérification(df)\n",
      "Cell \u001b[0;32mIn [22], line 4\u001b[0m, in \u001b[0;36mpourcentage_moyen_vérification\u001b[0;34m(df)\u001b[0m\n\u001b[1;32m      3\u001b[0m \u001b[39mdef\u001b[39;00m \u001b[39mpourcentage_moyen_vérification\u001b[39m(df):\n\u001b[0;32m----> 4\u001b[0m     serie_verification \u001b[39m=\u001b[39mdf[\u001b[39m'\u001b[39;49m\u001b[39mhost_verifications\u001b[39;49m\u001b[39m'\u001b[39;49m]\n\u001b[1;32m      5\u001b[0m     serie_length \u001b[39m=\u001b[39mserie_verification\u001b[39m.\u001b[39msize\n\u001b[1;32m      6\u001b[0m     n_email \u001b[39m=\u001b[39m \u001b[39m0\u001b[39m\n",
      "File \u001b[0;32m~/miniconda3/envs/airbnb_env/lib/python3.10/site-packages/pandas/core/frame.py:3804\u001b[0m, in \u001b[0;36mDataFrame.__getitem__\u001b[0;34m(self, key)\u001b[0m\n\u001b[1;32m   3802\u001b[0m \u001b[39mif\u001b[39;00m \u001b[39mself\u001b[39m\u001b[39m.\u001b[39mcolumns\u001b[39m.\u001b[39mnlevels \u001b[39m>\u001b[39m \u001b[39m1\u001b[39m:\n\u001b[1;32m   3803\u001b[0m     \u001b[39mreturn\u001b[39;00m \u001b[39mself\u001b[39m\u001b[39m.\u001b[39m_getitem_multilevel(key)\n\u001b[0;32m-> 3804\u001b[0m indexer \u001b[39m=\u001b[39m \u001b[39mself\u001b[39;49m\u001b[39m.\u001b[39;49mcolumns\u001b[39m.\u001b[39;49mget_loc(key)\n\u001b[1;32m   3805\u001b[0m \u001b[39mif\u001b[39;00m is_integer(indexer):\n\u001b[1;32m   3806\u001b[0m     indexer \u001b[39m=\u001b[39m [indexer]\n",
      "File \u001b[0;32m~/miniconda3/envs/airbnb_env/lib/python3.10/site-packages/pandas/core/indexes/base.py:3805\u001b[0m, in \u001b[0;36mIndex.get_loc\u001b[0;34m(self, key, method, tolerance)\u001b[0m\n\u001b[1;32m   3803\u001b[0m     \u001b[39mreturn\u001b[39;00m \u001b[39mself\u001b[39m\u001b[39m.\u001b[39m_engine\u001b[39m.\u001b[39mget_loc(casted_key)\n\u001b[1;32m   3804\u001b[0m \u001b[39mexcept\u001b[39;00m \u001b[39mKeyError\u001b[39;00m \u001b[39mas\u001b[39;00m err:\n\u001b[0;32m-> 3805\u001b[0m     \u001b[39mraise\u001b[39;00m \u001b[39mKeyError\u001b[39;00m(key) \u001b[39mfrom\u001b[39;00m \u001b[39merr\u001b[39;00m\n\u001b[1;32m   3806\u001b[0m \u001b[39mexcept\u001b[39;00m \u001b[39mTypeError\u001b[39;00m:\n\u001b[1;32m   3807\u001b[0m     \u001b[39m# If we have a listlike key, _check_indexing_error will raise\u001b[39;00m\n\u001b[1;32m   3808\u001b[0m     \u001b[39m#  InvalidIndexError. Otherwise we fall through and re-raise\u001b[39;00m\n\u001b[1;32m   3809\u001b[0m     \u001b[39m#  the TypeError.\u001b[39;00m\n\u001b[1;32m   3810\u001b[0m     \u001b[39mself\u001b[39m\u001b[39m.\u001b[39m_check_indexing_error(key)\n",
      "\u001b[0;31mKeyError\u001b[0m: 'host_verifications'"
     ]
    }
   ],
   "source": [
    "from ast import literal_eval\n",
    "\n",
    "def pourcentage_moyen_vérification(df):\n",
    "    serie_verification =df['host_verifications']\n",
    "    serie_length =serie_verification.size\n",
    "    n_email = 0\n",
    "    n_telephone = 0\n",
    "    n_work_email = 0\n",
    "\n",
    "    for valitation in serie_verification:\n",
    "        val = literal_eval(valitation)\n",
    "        for ele in val:\n",
    "            if ele == 'email':\n",
    "                n_email+=1\n",
    "            elif ele == 'phone':\n",
    "                n_telephone+=1\n",
    "            elif ele == 'work_email':\n",
    "                n_work_email+=1\n",
    "    pourcen_telephone = n_telephone/serie_length \n",
    "    pourcen_email = n_email/serie_length\n",
    "    pourcen_work_mail = n_work_email/serie_length\n",
    "\n",
    "    # print(pourcen_telephone,pourcen_email,pourcen_work_mail)\n",
    "\n",
    "    print(\"le pourcentage de validation par n_email est {0:.2f}\".format(pourcen_email))\n",
    "    print(\"le pourcentage de validation par n_telephone est {0:.2f}\".format(pourcen_telephone))\n",
    "    print(\"le pourcentage de validation par n_work_email est {0:.2f}\".format(pourcen_work_mail))\n",
    "\n",
    "pourcentage_moyen_vérification(df)"
   ]
  },
  {
   "cell_type": "markdown",
   "metadata": {},
   "source": [
    "En fonction du type de room, calculez le nombre moyen d’amenities et l'écart type."
   ]
  },
  {
   "cell_type": "code",
   "execution_count": null,
   "metadata": {},
   "outputs": [
    {
     "ename": "NameError",
     "evalue": "name 'df' is not defined",
     "output_type": "error",
     "traceback": [
      "\u001b[0;31m---------------------------------------------------------------------------\u001b[0m",
      "\u001b[0;31mNameError\u001b[0m                                 Traceback (most recent call last)",
      "Cell \u001b[0;32mIn [1], line 1\u001b[0m\n\u001b[0;32m----> 1\u001b[0m df_room \u001b[39m=\u001b[39m df[[\u001b[39m\"\u001b[39m\u001b[39mroom_type\u001b[39m\u001b[39m\"\u001b[39m,\u001b[39m\"\u001b[39m\u001b[39mamenities\u001b[39m\u001b[39m\"\u001b[39m]]\n\u001b[1;32m      2\u001b[0m df_room\u001b[39m.\u001b[39mgroupby(by\u001b[39m=\u001b[39m\u001b[39m\"\u001b[39m\u001b[39mroom_type\u001b[39m\u001b[39m\"\u001b[39m)\u001b[39m.\u001b[39magg([\u001b[39m\"\u001b[39m\u001b[39mmean\u001b[39m\u001b[39m\"\u001b[39m,\u001b[39m\"\u001b[39m\u001b[39mstd\u001b[39m\u001b[39m\"\u001b[39m])\n",
      "\u001b[0;31mNameError\u001b[0m: name 'df' is not defined"
     ]
    }
   ],
   "source": [
    "df_room = df[[\"room_type\",\"amenities\"]]\n",
    "df_room.groupby(by=\"room_type\").agg([\"mean\",\"std\"])\n"
   ]
  },
  {
   "cell_type": "markdown",
   "metadata": {},
   "source": [
    "Quel est le prix median par type de room, le maximum, le minimum, le premier et le troisième quartile?\n"
   ]
  },
  {
   "cell_type": "code",
   "execution_count": null,
   "metadata": {},
   "outputs": [],
   "source": [
    "df_price =df[[\"room_type\",\"price\"]]\n",
    "df_price.groupby('room_type').describe()"
   ]
  },
  {
   "cell_type": "code",
   "execution_count": 53,
   "metadata": {},
   "outputs": [
    {
     "ename": "AttributeError",
     "evalue": "'Series' object has no attribute 'value_count'",
     "output_type": "error",
     "traceback": [
      "\u001b[0;31m---------------------------------------------------------------------------\u001b[0m",
      "\u001b[0;31mAttributeError\u001b[0m                            Traceback (most recent call last)",
      "Cell \u001b[0;32mIn [53], line 1\u001b[0m\n\u001b[0;32m----> 1\u001b[0m df[\u001b[39m'\u001b[39;49m\u001b[39mType\u001b[39;49m\u001b[39m'\u001b[39;49m]\u001b[39m.\u001b[39;49mvalue_count()\n",
      "File \u001b[0;32m~/miniconda3/envs/airbnb_env/lib/python3.10/site-packages/pandas/core/generic.py:5902\u001b[0m, in \u001b[0;36mNDFrame.__getattr__\u001b[0;34m(self, name)\u001b[0m\n\u001b[1;32m   5895\u001b[0m \u001b[39mif\u001b[39;00m (\n\u001b[1;32m   5896\u001b[0m     name \u001b[39mnot\u001b[39;00m \u001b[39min\u001b[39;00m \u001b[39mself\u001b[39m\u001b[39m.\u001b[39m_internal_names_set\n\u001b[1;32m   5897\u001b[0m     \u001b[39mand\u001b[39;00m name \u001b[39mnot\u001b[39;00m \u001b[39min\u001b[39;00m \u001b[39mself\u001b[39m\u001b[39m.\u001b[39m_metadata\n\u001b[1;32m   5898\u001b[0m     \u001b[39mand\u001b[39;00m name \u001b[39mnot\u001b[39;00m \u001b[39min\u001b[39;00m \u001b[39mself\u001b[39m\u001b[39m.\u001b[39m_accessors\n\u001b[1;32m   5899\u001b[0m     \u001b[39mand\u001b[39;00m \u001b[39mself\u001b[39m\u001b[39m.\u001b[39m_info_axis\u001b[39m.\u001b[39m_can_hold_identifiers_and_holds_name(name)\n\u001b[1;32m   5900\u001b[0m ):\n\u001b[1;32m   5901\u001b[0m     \u001b[39mreturn\u001b[39;00m \u001b[39mself\u001b[39m[name]\n\u001b[0;32m-> 5902\u001b[0m \u001b[39mreturn\u001b[39;00m \u001b[39mobject\u001b[39;49m\u001b[39m.\u001b[39;49m\u001b[39m__getattribute__\u001b[39;49m(\u001b[39mself\u001b[39;49m, name)\n",
      "\u001b[0;31mAttributeError\u001b[0m: 'Series' object has no attribute 'value_count'"
     ]
    }
   ],
   "source": [
    "df['Type'].value_count()"
   ]
  },
  {
   "cell_type": "markdown",
   "metadata": {},
   "source": [
    "Combien y-a-t-il d’annonces par \"valeur de salle de bain\". (0.25 / 0.5 / 1 / 1.5 ….)"
   ]
  },
  {
   "cell_type": "code",
   "execution_count": null,
   "metadata": {},
   "outputs": [],
   "source": [
    "dic={'bath':1, 'private':2, 'half':0.5, 'shared':0.5}"
   ]
  },
  {
   "cell_type": "code",
   "execution_count": 49,
   "metadata": {},
   "outputs": [
    {
     "ename": "SyntaxError",
     "evalue": "expected 'else' after 'if' expression (3269391638.py, line 1)",
     "output_type": "error",
     "traceback": [
      "\u001b[0;36m  Cell \u001b[0;32mIn [49], line 1\u001b[0;36m\u001b[0m\n\u001b[0;31m    df['Type'] =df['Type'].apply(lambda x : 1 if x==bath elif x==private 2 elif x==half 0.5 elif x==shared   )\u001b[0m\n\u001b[0m                                            ^\u001b[0m\n\u001b[0;31mSyntaxError\u001b[0m\u001b[0;31m:\u001b[0m expected 'else' after 'if' expression\n"
     ]
    }
   ],
   "source": [
    "df['Type'] =df['Type'].apply(lambda x : \"1\" if x==\"bath\"  elif x==\"private\" \"2\" elif x==half 0.5 elif x==shared   )\n",
    "\n",
    "for i in df['Type']:\n",
    "    print (i)"
   ]
  },
  {
   "cell_type": "code",
   "execution_count": 40,
   "metadata": {},
   "outputs": [
    {
     "data": {
      "text/plain": [
       "points\n",
       "0.00      33\n",
       "0.25      13\n",
       "0.50     724\n",
       "0.75      40\n",
       "1.00    3890\n",
       "1.25      14\n",
       "1.50     324\n",
       "2.00    1471\n",
       "2.50     115\n",
       "3.00     154\n",
       "3.50      24\n",
       "4.00      39\n",
       "4.50       4\n",
       "5.00      14\n",
       "5.50       3\n",
       "6.00       2\n",
       "6.50       2\n",
       "7.00       1\n",
       "7.50       1\n",
       "8.00       2\n",
       "Name: points, dtype: int64"
      ]
     },
     "execution_count": 40,
     "metadata": {},
     "output_type": "execute_result"
    }
   ],
   "source": [
    "import numpy as np\n",
    "\n",
    "dic={'bath':1, 'private':2, 'half':0.5, 'shared':0.5}\n",
    "points = lambda number,bath_type : number * np.array([dic[key] for key in list(dic.keys()) if key in bath_type]).prod()\n",
    "df[\"points\"] = df[['Number','Type']].apply(lambda x : points(x[0],x[1]), axis=1)\n",
    "df.groupby('points').points.count()"
   ]
  }
 ],
 "metadata": {
  "kernelspec": {
   "display_name": "Python 3.10.8 ('airbnb_env')",
   "language": "python",
   "name": "python3"
  },
  "language_info": {
   "codemirror_mode": {
    "name": "ipython",
    "version": 3
   },
   "file_extension": ".py",
   "mimetype": "text/x-python",
   "name": "python",
   "nbconvert_exporter": "python",
   "pygments_lexer": "ipython3",
   "version": "3.10.8"
  },
  "orig_nbformat": 4,
  "vscode": {
   "interpreter": {
    "hash": "7dafef8727733b5668b4553e5c079e805bc765947f868d28c9f8cea5c2df342f"
   }
  }
 },
 "nbformat": 4,
 "nbformat_minor": 2
}
